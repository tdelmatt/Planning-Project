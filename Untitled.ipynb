{
 "cells": [
  {
   "cell_type": "code",
   "execution_count": 5,
   "metadata": {},
   "outputs": [
    {
     "name": "stdout",
     "output_type": "stream",
     "text": [
      "C:\\Users\\tdelmatt\\documents\\AI ND\\AIND-Planning\n"
     ]
    }
   ],
   "source": [
    "cd documents/AI ND/AIND-Planning"
   ]
  },
  {
   "cell_type": "code",
   "execution_count": 12,
   "metadata": {},
   "outputs": [
    {
     "name": "stdout",
     "output_type": "stream",
     "text": [
      "\n",
      "Solving Air Cargo Problem 1 using breadth_first_search...\n",
      "\n",
      "Expansions   Goal Tests   New Nodes\n",
      "    36          36          96    \n",
      "\n"
     ]
    },
    {
     "ename": "AttributeError",
     "evalue": "'NoneType' object has no attribute 'solution'",
     "output_type": "error",
     "traceback": [
      "\u001b[1;31m---------------------------------------------------------------------------\u001b[0m",
      "\u001b[1;31mAttributeError\u001b[0m                            Traceback (most recent call last)",
      "\u001b[1;32mC:\\Users\\tdelmatt\\Documents\\AI ND\\AIND-Planning\\run_search.py\u001b[0m in \u001b[0;36m<module>\u001b[1;34m()\u001b[0m\n\u001b[0;32m    123\u001b[0m         \u001b[0mmanual\u001b[0m\u001b[1;33m(\u001b[0m\u001b[1;33m)\u001b[0m\u001b[1;33m\u001b[0m\u001b[0m\n\u001b[0;32m    124\u001b[0m     \u001b[1;32melif\u001b[0m \u001b[0margs\u001b[0m\u001b[1;33m.\u001b[0m\u001b[0mproblems\u001b[0m \u001b[1;32mand\u001b[0m \u001b[0margs\u001b[0m\u001b[1;33m.\u001b[0m\u001b[0msearches\u001b[0m\u001b[1;33m:\u001b[0m\u001b[1;33m\u001b[0m\u001b[0m\n\u001b[1;32m--> 125\u001b[1;33m         \u001b[0mmain\u001b[0m\u001b[1;33m(\u001b[0m\u001b[0mlist\u001b[0m\u001b[1;33m(\u001b[0m\u001b[0msorted\u001b[0m\u001b[1;33m(\u001b[0m\u001b[0mset\u001b[0m\u001b[1;33m(\u001b[0m\u001b[0margs\u001b[0m\u001b[1;33m.\u001b[0m\u001b[0mproblems\u001b[0m\u001b[1;33m)\u001b[0m\u001b[1;33m)\u001b[0m\u001b[1;33m)\u001b[0m\u001b[1;33m,\u001b[0m \u001b[0mlist\u001b[0m\u001b[1;33m(\u001b[0m\u001b[0msorted\u001b[0m\u001b[1;33m(\u001b[0m\u001b[0mset\u001b[0m\u001b[1;33m(\u001b[0m\u001b[1;33m(\u001b[0m\u001b[0margs\u001b[0m\u001b[1;33m.\u001b[0m\u001b[0msearches\u001b[0m\u001b[1;33m)\u001b[0m\u001b[1;33m)\u001b[0m\u001b[1;33m)\u001b[0m\u001b[1;33m)\u001b[0m\u001b[1;33m)\u001b[0m\u001b[1;33m\u001b[0m\u001b[0m\n\u001b[0m\u001b[0;32m    126\u001b[0m     \u001b[1;32melse\u001b[0m\u001b[1;33m:\u001b[0m\u001b[1;33m\u001b[0m\u001b[0m\n\u001b[0;32m    127\u001b[0m         \u001b[0mprint\u001b[0m\u001b[1;33m(\u001b[0m\u001b[1;33m)\u001b[0m\u001b[1;33m\u001b[0m\u001b[0m\n",
      "\u001b[1;32mC:\\Users\\tdelmatt\\Documents\\AI ND\\AIND-Planning\\run_search.py\u001b[0m in \u001b[0;36mmain\u001b[1;34m(p_choices, s_choices)\u001b[0m\n\u001b[0;32m    100\u001b[0m             \u001b[0m_p\u001b[0m \u001b[1;33m=\u001b[0m \u001b[0mp\u001b[0m\u001b[1;33m(\u001b[0m\u001b[1;33m)\u001b[0m\u001b[1;33m\u001b[0m\u001b[0m\n\u001b[0;32m    101\u001b[0m             \u001b[0m_h\u001b[0m \u001b[1;33m=\u001b[0m \u001b[1;32mNone\u001b[0m \u001b[1;32mif\u001b[0m \u001b[1;32mnot\u001b[0m \u001b[0mh\u001b[0m \u001b[1;32melse\u001b[0m \u001b[0mgetattr\u001b[0m\u001b[1;33m(\u001b[0m\u001b[0m_p\u001b[0m\u001b[1;33m,\u001b[0m \u001b[0mh\u001b[0m\u001b[1;33m)\u001b[0m\u001b[1;33m\u001b[0m\u001b[0m\n\u001b[1;32m--> 102\u001b[1;33m             \u001b[0mrun_search\u001b[0m\u001b[1;33m(\u001b[0m\u001b[0m_p\u001b[0m\u001b[1;33m,\u001b[0m \u001b[0ms\u001b[0m\u001b[1;33m,\u001b[0m \u001b[0m_h\u001b[0m\u001b[1;33m)\u001b[0m\u001b[1;33m\u001b[0m\u001b[0m\n\u001b[0m\u001b[0;32m    103\u001b[0m \u001b[1;33m\u001b[0m\u001b[0m\n\u001b[0;32m    104\u001b[0m \u001b[1;33m\u001b[0m\u001b[0m\n",
      "\u001b[1;32mC:\\Users\\tdelmatt\\Documents\\AI ND\\AIND-Planning\\run_search.py\u001b[0m in \u001b[0;36mrun_search\u001b[1;34m(problem, search_function, parameter)\u001b[0m\n\u001b[0;32m     62\u001b[0m     \u001b[0mprint\u001b[0m\u001b[1;33m(\u001b[0m\u001b[1;34m\"\\nExpansions   Goal Tests   New Nodes\"\u001b[0m\u001b[1;33m)\u001b[0m\u001b[1;33m\u001b[0m\u001b[0m\n\u001b[0;32m     63\u001b[0m     \u001b[0mprint\u001b[0m\u001b[1;33m(\u001b[0m\u001b[1;34m\"{}\\n\"\u001b[0m\u001b[1;33m.\u001b[0m\u001b[0mformat\u001b[0m\u001b[1;33m(\u001b[0m\u001b[0mip\u001b[0m\u001b[1;33m)\u001b[0m\u001b[1;33m)\u001b[0m\u001b[1;33m\u001b[0m\u001b[0m\n\u001b[1;32m---> 64\u001b[1;33m     \u001b[0mshow_solution\u001b[0m\u001b[1;33m(\u001b[0m\u001b[0mnode\u001b[0m\u001b[1;33m,\u001b[0m \u001b[0mend\u001b[0m \u001b[1;33m-\u001b[0m \u001b[0mstart\u001b[0m\u001b[1;33m)\u001b[0m\u001b[1;33m\u001b[0m\u001b[0m\n\u001b[0m\u001b[0;32m     65\u001b[0m     \u001b[0mprint\u001b[0m\u001b[1;33m(\u001b[0m\u001b[1;33m)\u001b[0m\u001b[1;33m\u001b[0m\u001b[0m\n\u001b[0;32m     66\u001b[0m \u001b[1;33m\u001b[0m\u001b[0m\n",
      "\u001b[1;32mC:\\Users\\tdelmatt\\Documents\\AI ND\\AIND-Planning\\run_search.py\u001b[0m in \u001b[0;36mshow_solution\u001b[1;34m(node, elapsed_time)\u001b[0m\n\u001b[0;32m    104\u001b[0m \u001b[1;33m\u001b[0m\u001b[0m\n\u001b[0;32m    105\u001b[0m \u001b[1;32mdef\u001b[0m \u001b[0mshow_solution\u001b[0m\u001b[1;33m(\u001b[0m\u001b[0mnode\u001b[0m\u001b[1;33m,\u001b[0m \u001b[0melapsed_time\u001b[0m\u001b[1;33m)\u001b[0m\u001b[1;33m:\u001b[0m\u001b[1;33m\u001b[0m\u001b[0m\n\u001b[1;32m--> 106\u001b[1;33m     \u001b[0mprint\u001b[0m\u001b[1;33m(\u001b[0m\u001b[1;34m\"Plan length: {}  Time elapsed in seconds: {}\"\u001b[0m\u001b[1;33m.\u001b[0m\u001b[0mformat\u001b[0m\u001b[1;33m(\u001b[0m\u001b[0mlen\u001b[0m\u001b[1;33m(\u001b[0m\u001b[0mnode\u001b[0m\u001b[1;33m.\u001b[0m\u001b[0msolution\u001b[0m\u001b[1;33m(\u001b[0m\u001b[1;33m)\u001b[0m\u001b[1;33m)\u001b[0m\u001b[1;33m,\u001b[0m \u001b[0melapsed_time\u001b[0m\u001b[1;33m)\u001b[0m\u001b[1;33m)\u001b[0m\u001b[1;33m\u001b[0m\u001b[0m\n\u001b[0m\u001b[0;32m    107\u001b[0m     \u001b[1;32mfor\u001b[0m \u001b[0maction\u001b[0m \u001b[1;32min\u001b[0m \u001b[0mnode\u001b[0m\u001b[1;33m.\u001b[0m\u001b[0msolution\u001b[0m\u001b[1;33m(\u001b[0m\u001b[1;33m)\u001b[0m\u001b[1;33m:\u001b[0m\u001b[1;33m\u001b[0m\u001b[0m\n\u001b[0;32m    108\u001b[0m         \u001b[0mprint\u001b[0m\u001b[1;33m(\u001b[0m\u001b[1;34m\"{}{}\"\u001b[0m\u001b[1;33m.\u001b[0m\u001b[0mformat\u001b[0m\u001b[1;33m(\u001b[0m\u001b[0maction\u001b[0m\u001b[1;33m.\u001b[0m\u001b[0mname\u001b[0m\u001b[1;33m,\u001b[0m \u001b[0maction\u001b[0m\u001b[1;33m.\u001b[0m\u001b[0margs\u001b[0m\u001b[1;33m)\u001b[0m\u001b[1;33m)\u001b[0m\u001b[1;33m\u001b[0m\u001b[0m\n",
      "\u001b[1;31mAttributeError\u001b[0m: 'NoneType' object has no attribute 'solution'"
     ]
    }
   ],
   "source": [
    "%run ./run_search.py -p 1 -s 1"
   ]
  },
  {
   "cell_type": "code",
   "execution_count": 8,
   "metadata": {},
   "outputs": [
    {
     "name": "stderr",
     "output_type": "stream",
     "text": [
      "...F..EEEE"
     ]
    },
    {
     "name": "stdout",
     "output_type": "stream",
     "text": [
      "[<aimacode.planning.Action object at 0x000000000565EF28>, <aimacode.planning.Action object at 0x000000000566C358>, <aimacode.planning.Action object at 0x000000000566C6D8>, <aimacode.planning.Action object at 0x000000000566CA58>, <aimacode.planning.Action object at 0x000000000566CDD8>, <aimacode.planning.Action object at 0x0000000005670198>, <aimacode.planning.Action object at 0x0000000005670518>, <aimacode.planning.Action object at 0x0000000005670898>]\n",
      "[<aimacode.planning.Action object at 0x0000000005670C50>, <aimacode.planning.Action object at 0x00000000056559E8>, <aimacode.planning.Action object at 0x00000000056556A0>, <aimacode.planning.Action object at 0x000000000563DCF8>, <aimacode.planning.Action object at 0x000000000566F400>, <aimacode.planning.Action object at 0x000000000566F780>, <aimacode.planning.Action object at 0x000000000566FB00>, <aimacode.planning.Action object at 0x000000000566FE80>]\n",
      "[<aimacode.planning.Action object at 0x000000000566CA58>, <aimacode.planning.Action object at 0x000000000566CDD8>, <aimacode.planning.Action object at 0x0000000005671588>, <aimacode.planning.Action object at 0x0000000005671860>]\n",
      "[<aimacode.planning.Action object at 0x00000000056709E8>, <aimacode.planning.Action object at 0x0000000005670DD8>, <aimacode.planning.Action object at 0x0000000005655908>, <aimacode.planning.Action object at 0x0000000005655780>, <aimacode.planning.Action object at 0x000000000565EDA0>, <aimacode.planning.Action object at 0x000000000565E898>, <aimacode.planning.Action object at 0x000000000565EBA8>, <aimacode.planning.Action object at 0x00000000056744E0>]\n",
      "[<aimacode.planning.Action object at 0x00000000056748D0>, <aimacode.planning.Action object at 0x0000000005674C50>, <aimacode.planning.Action object at 0x0000000005674FD0>, <aimacode.planning.Action object at 0x000000000566C390>, <aimacode.planning.Action object at 0x000000000566C710>, <aimacode.planning.Action object at 0x000000000566CA90>, <aimacode.planning.Action object at 0x000000000566CE10>, <aimacode.planning.Action object at 0x000000000566D1D0>]\n",
      "[<aimacode.planning.Action object at 0x000000000565E6A0>, <aimacode.planning.Action object at 0x000000000565E9B0>, <aimacode.planning.Action object at 0x000000000565EB70>, <aimacode.planning.Action object at 0x00000000056744E0>, <aimacode.planning.Action object at 0x00000000056748D0>, <aimacode.planning.Action object at 0x0000000005674C50>, <aimacode.planning.Action object at 0x0000000005674FD0>, <aimacode.planning.Action object at 0x0000000005670EB8>]\n",
      "[<aimacode.planning.Action object at 0x0000000005670AC8>, <aimacode.planning.Action object at 0x0000000005670320>, <aimacode.planning.Action object at 0x0000000005670710>, <aimacode.planning.Action object at 0x000000000566D048>, <aimacode.planning.Action object at 0x000000000566D3C8>, <aimacode.planning.Action object at 0x000000000566D748>, <aimacode.planning.Action object at 0x000000000566DAC8>, <aimacode.planning.Action object at 0x000000000566DE48>]\n",
      "[<aimacode.planning.Action object at 0x0000000005674C88>, <aimacode.planning.Action object at 0x0000000005674400>, <aimacode.planning.Action object at 0x0000000005670E10>, <aimacode.planning.Action object at 0x0000000005670F98>, <aimacode.planning.Action object at 0x00000000056703C8>, <aimacode.planning.Action object at 0x00000000056707B8>, <aimacode.planning.Action object at 0x00000000056708D0>, <aimacode.planning.Action object at 0x000000000565E588>]\n",
      "[<aimacode.planning.Action object at 0x000000000565EE80>, <aimacode.planning.Action object at 0x000000000565EFD0>, <aimacode.planning.Action object at 0x0000000005655278>, <aimacode.planning.Action object at 0x0000000005655A20>, <aimacode.planning.Action object at 0x000000000566C390>, <aimacode.planning.Action object at 0x000000000566C710>, <aimacode.planning.Action object at 0x000000000566CA90>, <aimacode.planning.Action object at 0x000000000566CE10>]\n",
      "[<aimacode.planning.Action object at 0x00000000056729E8>, <aimacode.planning.Action object at 0x0000000005672D68>, <aimacode.planning.Action object at 0x000000000567A128>, <aimacode.planning.Action object at 0x000000000567A4A8>, <aimacode.planning.Action object at 0x000000000567A828>, <aimacode.planning.Action object at 0x000000000567ABA8>, <aimacode.planning.Action object at 0x000000000567AF28>, <aimacode.planning.Action object at 0x00000000056812E8>]\n",
      "[<aimacode.planning.Action object at 0x00000000056816D8>, <aimacode.planning.Action object at 0x0000000005681A58>, <aimacode.planning.Action object at 0x0000000005681DD8>, <aimacode.planning.Action object at 0x0000000005682198>, <aimacode.planning.Action object at 0x0000000005682518>, <aimacode.planning.Action object at 0x0000000005682898>, <aimacode.planning.Action object at 0x0000000005682C18>, <aimacode.planning.Action object at 0x0000000005682F98>]\n",
      "[<aimacode.planning.Action object at 0x0000000005681A20>, <aimacode.planning.Action object at 0x0000000005681DA0>, <aimacode.planning.Action object at 0x00000000056729E8>, <aimacode.planning.Action object at 0x0000000005672D68>, <aimacode.planning.Action object at 0x00000000056728D0>, <aimacode.planning.Action object at 0x0000000005672438>, <aimacode.planning.Action object at 0x0000000005672748>, <aimacode.planning.Action object at 0x00000000056792B0>]\n",
      "[<aimacode.planning.Action object at 0x00000000056796A0>, <aimacode.planning.Action object at 0x0000000005679A20>, <aimacode.planning.Action object at 0x0000000005679DA0>, <aimacode.planning.Action object at 0x000000000567E160>, <aimacode.planning.Action object at 0x000000000567E4E0>, <aimacode.planning.Action object at 0x000000000567E860>, <aimacode.planning.Action object at 0x000000000567EBE0>, <aimacode.planning.Action object at 0x000000000567EF60>]\n"
     ]
    },
    {
     "name": "stderr",
     "output_type": "stream",
     "text": [
      "\n",
      "======================================================================\n",
      "ERROR: test_ACP2_num_fluents (__main__.TestAirCargoProb2)\n",
      "----------------------------------------------------------------------\n",
      "Traceback (most recent call last):\n",
      "  File \"C:\\Users\\tdelmatt\\documents\\AI ND\\AIND-Planning\\tests\\test_my_air_cargo_problems.py\", line 29, in setUp\n",
      "    self.p2 = air_cargo_p2()\n",
      "  File \"C:\\Users\\tdelmatt\\documents\\AI ND\\AIND-Planning\\my_air_cargo_problems.py\", line 296, in air_cargo_p2\n",
      "    pos = [expr('At(C1, SFO)'), expr('At(C2, JFK)'), expr('At(C3, ATL)'),\n",
      "  File \"C:\\Users\\tdelmatt\\documents\\AI ND\\AIND-Planning\\aimacode\\utils.py\", line 488, in expr\n",
      "    return eval(expr_handle_infix_ops(x), defaultkeydict(Symbol))\n",
      "  File \"<string>\", line 1\n",
      "    (At(C1, SFO)\n",
      "               ^\n",
      "SyntaxError: unexpected EOF while parsing\n",
      "\n",
      "======================================================================\n",
      "ERROR: test_ACP2_num_requirements (__main__.TestAirCargoProb2)\n",
      "----------------------------------------------------------------------\n",
      "Traceback (most recent call last):\n",
      "  File \"C:\\Users\\tdelmatt\\documents\\AI ND\\AIND-Planning\\tests\\test_my_air_cargo_problems.py\", line 29, in setUp\n",
      "    self.p2 = air_cargo_p2()\n",
      "  File \"C:\\Users\\tdelmatt\\documents\\AI ND\\AIND-Planning\\my_air_cargo_problems.py\", line 296, in air_cargo_p2\n",
      "    pos = [expr('At(C1, SFO)'), expr('At(C2, JFK)'), expr('At(C3, ATL)'),\n",
      "  File \"C:\\Users\\tdelmatt\\documents\\AI ND\\AIND-Planning\\aimacode\\utils.py\", line 488, in expr\n",
      "    return eval(expr_handle_infix_ops(x), defaultkeydict(Symbol))\n",
      "  File \"<string>\", line 1\n",
      "    (At(C1, SFO)\n",
      "               ^\n",
      "SyntaxError: unexpected EOF while parsing\n",
      "\n",
      "======================================================================\n",
      "ERROR: test_ACP3_num_fluents (__main__.TestAirCargoProb3)\n",
      "----------------------------------------------------------------------\n",
      "Traceback (most recent call last):\n",
      "  File \"C:\\Users\\tdelmatt\\documents\\AI ND\\AIND-Planning\\tests\\test_my_air_cargo_problems.py\", line 44, in test_ACP3_num_fluents\n",
      "    self.assertEqual(len(self.p3.initial), 32)\n",
      "AttributeError: 'NoneType' object has no attribute 'initial'\n",
      "\n",
      "======================================================================\n",
      "ERROR: test_ACP3_num_requirements (__main__.TestAirCargoProb3)\n",
      "----------------------------------------------------------------------\n",
      "Traceback (most recent call last):\n",
      "  File \"C:\\Users\\tdelmatt\\documents\\AI ND\\AIND-Planning\\tests\\test_my_air_cargo_problems.py\", line 47, in test_ACP3_num_requirements\n",
      "    self.assertEqual(len(self.p3.goal),4)\n",
      "AttributeError: 'NoneType' object has no attribute 'goal'\n",
      "\n",
      "======================================================================\n",
      "FAIL: test_h_ignore_preconditions (__main__.TestAirCargoMethods)\n",
      "----------------------------------------------------------------------\n",
      "Traceback (most recent call last):\n",
      "  File \"C:\\Users\\tdelmatt\\documents\\AI ND\\AIND-Planning\\tests\\test_my_air_cargo_problems.py\", line 81, in test_h_ignore_preconditions\n",
      "    self.assertEqual(self.p1.h_ignore_preconditions(n),2)\n",
      "AssertionError: 0 != 2\n",
      "\n",
      "----------------------------------------------------------------------\n",
      "Ran 10 tests in 0.046s\n",
      "\n",
      "FAILED (failures=1, errors=4)\n"
     ]
    },
    {
     "ename": "SystemExit",
     "evalue": "True",
     "output_type": "error",
     "traceback": [
      "An exception has occurred, use %tb to see the full traceback.\n",
      "\u001b[1;31mSystemExit\u001b[0m\u001b[1;31m:\u001b[0m True\n"
     ]
    }
   ],
   "source": [
    "%run ./tests/test_my_air_cargo_problems.py"
   ]
  },
  {
   "cell_type": "code",
   "execution_count": 9,
   "metadata": {},
   "outputs": [
    {
     "name": "stderr",
     "output_type": "stream",
     "text": [
      "...F..EEEE"
     ]
    },
    {
     "name": "stdout",
     "output_type": "stream",
     "text": [
      "[<aimacode.planning.Action object at 0x0000000005682DA0>, <aimacode.planning.Action object at 0x00000000056871D0>, <aimacode.planning.Action object at 0x0000000005687550>, <aimacode.planning.Action object at 0x00000000056878D0>, <aimacode.planning.Action object at 0x0000000005687C50>, <aimacode.planning.Action object at 0x0000000005687FD0>, <aimacode.planning.Action object at 0x000000000567E390>, <aimacode.planning.Action object at 0x000000000567E710>]\n",
      "[<aimacode.planning.Action object at 0x000000000567EB38>, <aimacode.planning.Action object at 0x0000000005672BE0>, <aimacode.planning.Action object at 0x0000000005672518>, <aimacode.planning.Action object at 0x0000000005590358>, <aimacode.planning.Action object at 0x000000000568A2E8>, <aimacode.planning.Action object at 0x000000000568A668>, <aimacode.planning.Action object at 0x000000000568A9E8>, <aimacode.planning.Action object at 0x000000000568AD68>]\n",
      "[<aimacode.planning.Action object at 0x00000000056878D0>, <aimacode.planning.Action object at 0x0000000005687C50>, <aimacode.planning.Action object at 0x000000000568C470>, <aimacode.planning.Action object at 0x000000000568C748>]\n",
      "[<aimacode.planning.Action object at 0x000000000567E390>, <aimacode.planning.Action object at 0x000000000567E710>, <aimacode.planning.Action object at 0x000000000567EB38>, <aimacode.planning.Action object at 0x000000000567EF98>, <aimacode.planning.Action object at 0x0000000005682F28>, <aimacode.planning.Action object at 0x00000000056824A8>, <aimacode.planning.Action object at 0x0000000005682908>, <aimacode.planning.Action object at 0x0000000005682CF8>]\n",
      "[<aimacode.planning.Action object at 0x000000000568F6A0>, <aimacode.planning.Action object at 0x000000000568FA20>, <aimacode.planning.Action object at 0x000000000568FDA0>, <aimacode.planning.Action object at 0x0000000005687160>, <aimacode.planning.Action object at 0x00000000056874E0>, <aimacode.planning.Action object at 0x0000000005687860>, <aimacode.planning.Action object at 0x0000000005687BE0>, <aimacode.planning.Action object at 0x0000000005687F60>]\n",
      "[<aimacode.planning.Action object at 0x00000000056829B0>, <aimacode.planning.Action object at 0x0000000005672A90>, <aimacode.planning.Action object at 0x00000000056725F8>, <aimacode.planning.Action object at 0x000000000567E4E0>, <aimacode.planning.Action object at 0x000000000567E860>, <aimacode.planning.Action object at 0x000000000567ECC0>, <aimacode.planning.Action object at 0x000000000567EF60>, <aimacode.planning.Action object at 0x000000000567E358>]\n",
      "[<aimacode.planning.Action object at 0x00000000056813C8>, <aimacode.planning.Action object at 0x0000000005681748>, <aimacode.planning.Action object at 0x0000000005681AC8>, <aimacode.planning.Action object at 0x0000000005681E48>, <aimacode.planning.Action object at 0x000000000567B208>, <aimacode.planning.Action object at 0x000000000567B588>, <aimacode.planning.Action object at 0x000000000567B908>, <aimacode.planning.Action object at 0x000000000567BC88>]\n",
      "[<aimacode.planning.Action object at 0x000000000567E630>, <aimacode.planning.Action object at 0x000000000567E9B0>, <aimacode.planning.Action object at 0x000000000567EE10>, <aimacode.planning.Action object at 0x0000000005590358>, <aimacode.planning.Action object at 0x00000000056828D0>, <aimacode.planning.Action object at 0x00000000056822B0>, <aimacode.planning.Action object at 0x00000000056824A8>, <aimacode.planning.Action object at 0x0000000005682A20>]\n",
      "[<aimacode.planning.Action object at 0x000000000568F390>, <aimacode.planning.Action object at 0x000000000568F710>, <aimacode.planning.Action object at 0x000000000568FA90>, <aimacode.planning.Action object at 0x000000000568FE10>, <aimacode.planning.Action object at 0x00000000056811D0>, <aimacode.planning.Action object at 0x0000000005681550>, <aimacode.planning.Action object at 0x00000000056818D0>, <aimacode.planning.Action object at 0x0000000005681C50>]\n",
      "[<aimacode.planning.Action object at 0x00000000056567F0>, <aimacode.planning.Action object at 0x0000000005656B70>, <aimacode.planning.Action object at 0x0000000005656EF0>, <aimacode.planning.Action object at 0x00000000058E22B0>, <aimacode.planning.Action object at 0x00000000058E2630>, <aimacode.planning.Action object at 0x00000000058E29B0>, <aimacode.planning.Action object at 0x00000000058E2D30>, <aimacode.planning.Action object at 0x00000000058E60F0>]\n",
      "[<aimacode.planning.Action object at 0x00000000058E64E0>, <aimacode.planning.Action object at 0x00000000058E6860>, <aimacode.planning.Action object at 0x00000000058E6BE0>, <aimacode.planning.Action object at 0x00000000058E6F60>, <aimacode.planning.Action object at 0x00000000058E9320>, <aimacode.planning.Action object at 0x00000000058E96A0>, <aimacode.planning.Action object at 0x00000000058E9A20>, <aimacode.planning.Action object at 0x00000000058E9DA0>]\n",
      "[<aimacode.planning.Action object at 0x00000000058E6B00>, <aimacode.planning.Action object at 0x00000000058E6E80>, <aimacode.planning.Action object at 0x00000000058E6FD0>, <aimacode.planning.Action object at 0x00000000056562B0>, <aimacode.planning.Action object at 0x0000000005656630>, <aimacode.planning.Action object at 0x00000000056569B0>, <aimacode.planning.Action object at 0x0000000005656D30>, <aimacode.planning.Action object at 0x00000000058E2128>]\n",
      "[<aimacode.planning.Action object at 0x00000000058E23C8>, <aimacode.planning.Action object at 0x00000000058E2748>, <aimacode.planning.Action object at 0x00000000058E2AC8>, <aimacode.planning.Action object at 0x00000000058E2E48>, <aimacode.planning.Action object at 0x0000000005687358>, <aimacode.planning.Action object at 0x00000000056876D8>, <aimacode.planning.Action object at 0x0000000005687A58>, <aimacode.planning.Action object at 0x0000000005687DD8>]\n"
     ]
    },
    {
     "name": "stderr",
     "output_type": "stream",
     "text": [
      "\n",
      "======================================================================\n",
      "ERROR: test_ACP2_num_fluents (__main__.TestAirCargoProb2)\n",
      "----------------------------------------------------------------------\n",
      "Traceback (most recent call last):\n",
      "  File \"C:\\Users\\tdelmatt\\documents\\AI ND\\AIND-Planning\\tests\\test_my_air_cargo_problems.py\", line 29, in setUp\n",
      "    self.p2 = air_cargo_p2()\n",
      "  File \"C:\\Users\\tdelmatt\\documents\\AI ND\\AIND-Planning\\my_air_cargo_problems.py\", line 296, in air_cargo_p2\n",
      "    pos = [expr('At(C1, SFO)'), expr('At(C2, JFK)'), expr('At(C3, ATL)'),\n",
      "  File \"C:\\Users\\tdelmatt\\documents\\AI ND\\AIND-Planning\\aimacode\\utils.py\", line 488, in expr\n",
      "    return eval(expr_handle_infix_ops(x), defaultkeydict(Symbol))\n",
      "  File \"<string>\", line 1\n",
      "    (At(C1, SFO)\n",
      "               ^\n",
      "SyntaxError: unexpected EOF while parsing\n",
      "\n",
      "======================================================================\n",
      "ERROR: test_ACP2_num_requirements (__main__.TestAirCargoProb2)\n",
      "----------------------------------------------------------------------\n",
      "Traceback (most recent call last):\n",
      "  File \"C:\\Users\\tdelmatt\\documents\\AI ND\\AIND-Planning\\tests\\test_my_air_cargo_problems.py\", line 29, in setUp\n",
      "    self.p2 = air_cargo_p2()\n",
      "  File \"C:\\Users\\tdelmatt\\documents\\AI ND\\AIND-Planning\\my_air_cargo_problems.py\", line 296, in air_cargo_p2\n",
      "    pos = [expr('At(C1, SFO)'), expr('At(C2, JFK)'), expr('At(C3, ATL)'),\n",
      "  File \"C:\\Users\\tdelmatt\\documents\\AI ND\\AIND-Planning\\aimacode\\utils.py\", line 488, in expr\n",
      "    return eval(expr_handle_infix_ops(x), defaultkeydict(Symbol))\n",
      "  File \"<string>\", line 1\n",
      "    (At(C1, SFO)\n",
      "               ^\n",
      "SyntaxError: unexpected EOF while parsing\n",
      "\n",
      "======================================================================\n",
      "ERROR: test_ACP3_num_fluents (__main__.TestAirCargoProb3)\n",
      "----------------------------------------------------------------------\n",
      "Traceback (most recent call last):\n",
      "  File \"C:\\Users\\tdelmatt\\documents\\AI ND\\AIND-Planning\\tests\\test_my_air_cargo_problems.py\", line 44, in test_ACP3_num_fluents\n",
      "    self.assertEqual(len(self.p3.initial), 32)\n",
      "AttributeError: 'NoneType' object has no attribute 'initial'\n",
      "\n",
      "======================================================================\n",
      "ERROR: test_ACP3_num_requirements (__main__.TestAirCargoProb3)\n",
      "----------------------------------------------------------------------\n",
      "Traceback (most recent call last):\n",
      "  File \"C:\\Users\\tdelmatt\\documents\\AI ND\\AIND-Planning\\tests\\test_my_air_cargo_problems.py\", line 47, in test_ACP3_num_requirements\n",
      "    self.assertEqual(len(self.p3.goal),4)\n",
      "AttributeError: 'NoneType' object has no attribute 'goal'\n",
      "\n",
      "======================================================================\n",
      "FAIL: test_h_ignore_preconditions (__main__.TestAirCargoMethods)\n",
      "----------------------------------------------------------------------\n",
      "Traceback (most recent call last):\n",
      "  File \"C:\\Users\\tdelmatt\\documents\\AI ND\\AIND-Planning\\tests\\test_my_air_cargo_problems.py\", line 81, in test_h_ignore_preconditions\n",
      "    self.assertEqual(self.p1.h_ignore_preconditions(n),2)\n",
      "AssertionError: 0 != 2\n",
      "\n",
      "----------------------------------------------------------------------\n",
      "Ran 10 tests in 0.040s\n",
      "\n",
      "FAILED (failures=1, errors=4)\n"
     ]
    },
    {
     "ename": "SystemExit",
     "evalue": "True",
     "output_type": "error",
     "traceback": [
      "An exception has occurred, use %tb to see the full traceback.\n",
      "\u001b[1;31mSystemExit\u001b[0m\u001b[1;31m:\u001b[0m True\n"
     ]
    }
   ],
   "source": [
    "%run ./tests/test_my_air_cargo_problems.py"
   ]
  },
  {
   "cell_type": "code",
   "execution_count": null,
   "metadata": {
    "collapsed": true
   },
   "outputs": [],
   "source": []
  }
 ],
 "metadata": {
  "kernelspec": {
   "display_name": "Python [conda env:aind]",
   "language": "python",
   "name": "conda-env-aind-py"
  },
  "language_info": {
   "codemirror_mode": {
    "name": "ipython",
    "version": 3
   },
   "file_extension": ".py",
   "mimetype": "text/x-python",
   "name": "python",
   "nbconvert_exporter": "python",
   "pygments_lexer": "ipython3",
   "version": "3.6.0"
  }
 },
 "nbformat": 4,
 "nbformat_minor": 2
}
